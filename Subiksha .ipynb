{
 "cells": [
  {
   "cell_type": "code",
   "execution_count": 1,
   "metadata": {},
   "outputs": [
    {
     "name": "stdout",
     "output_type": "stream",
     "text": [
      "Requirement already satisfied: regex in c:\\users\\acal\\anaconda3\\lib\\site-packages (2020.6.8)\n"
     ]
    }
   ],
   "source": [
    "!pip install regex"
   ]
  },
  {
   "cell_type": "code",
   "execution_count": 2,
   "metadata": {},
   "outputs": [
    {
     "name": "stdout",
     "output_type": "stream",
     "text": [
      "Requirement already satisfied: emoji in c:\\users\\acal\\anaconda3\\lib\\site-packages (1.2.0)\n"
     ]
    }
   ],
   "source": [
    "!pip install emoji"
   ]
  },
  {
   "cell_type": "code",
   "execution_count": 3,
   "metadata": {},
   "outputs": [
    {
     "name": "stdout",
     "output_type": "stream",
     "text": [
      "Requirement already satisfied: wordcloud in c:\\users\\acal\\anaconda3\\lib\\site-packages (1.8.1)\n",
      "Requirement already satisfied: matplotlib in c:\\users\\acal\\anaconda3\\lib\\site-packages (from wordcloud) (3.2.2)\n",
      "Requirement already satisfied: numpy>=1.6.1 in c:\\users\\acal\\anaconda3\\lib\\site-packages (from wordcloud) (1.18.5)\n",
      "Requirement already satisfied: pillow in c:\\users\\acal\\anaconda3\\lib\\site-packages (from wordcloud) (7.2.0)\n",
      "Requirement already satisfied: kiwisolver>=1.0.1 in c:\\users\\acal\\anaconda3\\lib\\site-packages (from matplotlib->wordcloud) (1.2.0)\n",
      "Requirement already satisfied: cycler>=0.10 in c:\\users\\acal\\anaconda3\\lib\\site-packages (from matplotlib->wordcloud) (0.10.0)\n",
      "Requirement already satisfied: pyparsing!=2.0.4,!=2.1.2,!=2.1.6,>=2.0.1 in c:\\users\\acal\\anaconda3\\lib\\site-packages (from matplotlib->wordcloud) (2.4.7)\n",
      "Requirement already satisfied: python-dateutil>=2.1 in c:\\users\\acal\\anaconda3\\lib\\site-packages (from matplotlib->wordcloud) (2.8.1)\n",
      "Requirement already satisfied: six in c:\\users\\acal\\anaconda3\\lib\\site-packages (from cycler>=0.10->matplotlib->wordcloud) (1.15.0)\n"
     ]
    }
   ],
   "source": [
    "!pip install wordcloud"
   ]
  },
  {
   "cell_type": "code",
   "execution_count": 4,
   "metadata": {},
   "outputs": [],
   "source": [
    "import re\n",
    "import numpy as np\n",
    "import pandas as pd\n",
    "import regex\n",
    "#import emoji\n",
    "import collections\n",
    "#import nltk\n",
    "import matplotlib.pyplot as plt\n",
    "#from wordcloud import WordCloud"
   ]
  },
  {
   "cell_type": "code",
   "execution_count": 5,
   "metadata": {},
   "outputs": [
    {
     "name": "stdout",
     "output_type": "stream",
     "text": [
      "WhatsApp Chat with IT Abi\n"
     ]
    }
   ],
   "source": [
    "link=\"C:\\\\Users\\\\Acal\\\\Desktop\\\\subi\\\\WhatsApp Chat with IT Abi.txt\"\n",
    "tit=link.split(\"\\\\\")\n",
    "title=tit[-1]\n",
    "title1=title[:len(title)-4:]\n",
    "print(title1)\n",
    "cht=open(link,encoding=\"utf8\")\n",
    "list_of_date_time_author_msg=[]\n",
    "total_msg=0\n",
    "total_msg_and_notification=0\n",
    "list_of_notification=[]\n",
    "total_valid_msg=0"
   ]
  },
  {
   "cell_type": "code",
   "execution_count": 6,
   "metadata": {},
   "outputs": [],
   "source": [
    "def startsWithDate(s):\n",
    "    #ReGex finding date and time\n",
    "    pattern = \"^([0-2][0-9]|(3)[0-1])(\\/)(([0-9])|((0)[0-9])|((1)[0-2]))(\\/)(\\d{2}|\\d{4}), ([0-9][0-9]|[0-9]):([0-9][0-9])\"\n",
    "    result = re.match(pattern, s)\n",
    "    if result:\n",
    "        return True\n",
    "    return False"
   ]
  },
  {
   "cell_type": "code",
   "execution_count": 7,
   "metadata": {},
   "outputs": [],
   "source": [
    "def findColon(s):#to know msg is valid or not\n",
    "    n=len(s)\n",
    "    c=0\n",
    "    \n",
    "    for i in range(n):\n",
    "        if s[i]==\":\":\n",
    "            c+=1\n",
    "    return c    #return no. of colon in a msg if  0 then this msg is not a valid msg"
   ]
  },
  {
   "cell_type": "code",
   "execution_count": 8,
   "metadata": {},
   "outputs": [],
   "source": [
    "\n",
    "while 1:\n",
    "    rd=cht.readline()\n",
    "    if not rd:break\n",
    "        \n",
    "    total_msg_and_notification+=1\n",
    "    if startsWithDate(rd):#to know msg is start with date or no not.\n",
    "  \n",
    "        splitLine=rd.split(\"-\")\n",
    "        dateTime=splitLine[0]\n",
    "    \n",
    "        date,time=dateTime.split(',')\n",
    "        total_msg+=1\n",
    "    \n",
    "        if findColon(splitLine[1])>0:# to know this line is genuene msg or notification .\n",
    "            total_valid_msg+=1\n",
    "            authorMsg=splitLine[1].split(\":\")\n",
    "            \n",
    "     \n",
    "            author= authorMsg[0][:15]+\"..\"\n",
    "            msg=authorMsg[1::]\n",
    "            \n",
    "            list_of_date_time_author_msg.append([date,time,author,msg])\n",
    "        \n",
    "        else:\n",
    "            list_of_notification.append(splitLine[1])#collect all notification such as: some add someone,someone join this group via link etc."
   ]
  },
  {
   "cell_type": "code",
   "execution_count": 1,
   "metadata": {},
   "outputs": [
    {
     "ename": "NameError",
     "evalue": "name 'total_msg' is not defined",
     "output_type": "error",
     "traceback": [
      "\u001b[1;31m---------------------------------------------------------------------------\u001b[0m",
      "\u001b[1;31mNameError\u001b[0m                                 Traceback (most recent call last)",
      "\u001b[1;32m<ipython-input-1-a733d468b0cb>\u001b[0m in \u001b[0;36m<module>\u001b[1;34m\u001b[0m\n\u001b[1;32m----> 1\u001b[1;33m \u001b[0mprint\u001b[0m\u001b[1;33m(\u001b[0m\u001b[1;34m\"\\n\\nTotal msg-\"\u001b[0m\u001b[1;33m,\u001b[0m\u001b[0mtotal_msg\u001b[0m\u001b[1;33m,\u001b[0m\u001b[1;34m\"\\nTotal valid msg-\"\u001b[0m\u001b[1;33m,\u001b[0m\u001b[0mtotal_valid_msg\u001b[0m\u001b[1;33m,\u001b[0m\u001b[1;34m\"\\ntotal_msg_and_notification\"\u001b[0m\u001b[1;33m,\u001b[0m\u001b[0mtotal_msg_and_notification\u001b[0m\u001b[1;33m)\u001b[0m\u001b[1;33m\u001b[0m\u001b[1;33m\u001b[0m\u001b[0m\n\u001b[0m",
      "\u001b[1;31mNameError\u001b[0m: name 'total_msg' is not defined"
     ]
    }
   ],
   "source": [
    "print(\"\\n\\nTotal msg-\",total_msg,\"\\nTotal valid msg-\",total_valid_msg,\"\\ntotal_msg_and_notification\",total_msg_and_notification)"
   ]
  },
  {
   "cell_type": "code",
   "execution_count": 10,
   "metadata": {
    "scrolled": false
   },
   "outputs": [
    {
     "data": {
      "image/png": "[encoded data removed]",
      "text/plain": [
       "<Figure size 36x360 with 1 Axes>"
      ]
     },
     "metadata": {
      "needs_background": "light"
     },
     "output_type": "display_data"
    }
   ],
   "source": [
    "df=pd.DataFrame(list_of_date_time_author_msg,columns=[\"Date\",\"Time\",\"GroupMember\",\"Message\"])\n",
    "\n",
    "l=dict(df['GroupMember'].value_counts())\n",
    "xval=[]\n",
    "yval=[]\n",
    "for x,y in l.items():\n",
    "    xval.append(x)\n",
    "    yval.append(y)\n",
    "\n",
    "def showAll():\n",
    "\n",
    "    plt.figure(figsize=(len(l)*0.25,5))\n",
    "    plt.bar(xval,yval,width=0.8)\n",
    "    \n",
    "    plt.title(\"Group: \"+title1)\n",
    "    plt.xlabel(\"Group Members\")\n",
    "    plt.ylabel(\"Number of messages\")\n",
    "    plt.xticks(xval,rotation=90)\n",
    "    \n",
    "    \n",
    "showAll()\n",
    "c3=0\n",
    "def autolabel(x,y):\n",
    "    global c3\n",
    "    for i in range(len(x)):\n",
    "\n",
    "        plt.text(x[i],y[i]+5,str(y[i]),ha='center',rotation=90,color='red')\n",
    "        c3+=y[i]\n",
    "autolabel(xval,yval)\n",
    "plt.text(len(l)-len(l)//2,len(l), 'Total Active Members: '+str(len(l))+\", Total Message-\"+str(c3),color='red')\n",
    "\n",
    "plt.show()\n",
    "#plt.savefig('test.png')"
   ]
  },
  {
   "cell_type": "code",
   "execution_count": null,
   "metadata": {},
   "outputs": [],
   "source": []
  },
  {
   "cell_type": "code",
   "execution_count": null,
   "metadata": {},
   "outputs": [],
   "source": []
  }
 ],
 "metadata": {
  "kernelspec": {
   "display_name": "Python 3",
   "language": "python",
   "name": "python3"
  },
  "language_info": {
   "codemirror_mode": {
    "name": "ipython",
    "version": 3
   },
   "file_extension": ".py",
   "mimetype": "text/x-python",
   "name": "python",
   "nbconvert_exporter": "python",
   "pygments_lexer": "ipython3",
   "version": "3.8.3"
  }
 },
 "nbformat": 4,
 "nbformat_minor": 4
}
